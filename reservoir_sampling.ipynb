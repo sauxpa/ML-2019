{
 "cells": [
  {
   "cell_type": "code",
   "execution_count": 1,
   "metadata": {},
   "outputs": [],
   "source": [
    "import numpy as np\n",
    "from numpy import random as rd\n",
    "from copy import copy\n",
    "import matplotlib.pyplot as plt\n",
    "from datetime import datetime"
   ]
  },
  {
   "cell_type": "code",
   "execution_count": 2,
   "metadata": {},
   "outputs": [],
   "source": [
    "# maximum size for the test arrays\n",
    "N_MAX = int(1e2)"
   ]
  },
  {
   "cell_type": "code",
   "execution_count": 3,
   "metadata": {},
   "outputs": [],
   "source": [
    "# create an array of unknown size between 1 and N_MAX\n",
    "N = rd.randint(N_MAX)\n",
    "a = list(rd.rand(N))"
   ]
  },
  {
   "cell_type": "code",
   "execution_count": 4,
   "metadata": {},
   "outputs": [],
   "source": [
    "def reservoirRand(a):\n",
    "    \"\"\"Reservoir sampling is a technique to draw from a uniform distribution elements in an array of unknown size.\n",
    "    Start from the first element.\n",
    "    \"\"\"\n",
    "    a = copy(a)\n",
    "    count = 1\n",
    "    x = a.pop(0)\n",
    "    while a:\n",
    "        count += 1\n",
    "        candidate = a.pop(0)\n",
    "        if( rd.choice([True, False], p=[1/count, 1-1/count])):\n",
    "            x = candidate\n",
    "    return x"
   ]
  },
  {
   "cell_type": "code",
   "execution_count": 5,
   "metadata": {},
   "outputs": [
    {
     "data": {
      "image/png": "[encoded data removed]",
      "text/plain": [
       "<Figure size 576x504 with 1 Axes>"
      ]
     },
     "metadata": {
      "needs_background": "light"
     },
     "output_type": "display_data"
    }
   ],
   "source": [
    "M = int(N_MAX ** 2)\n",
    "data = [a.index(reservoirRand(a)) for _ in range(M)]\n",
    "\n",
    "fig = plt.figure(figsize=(8, 7))\n",
    "plt.hist(data, bins=list(range(N+1)), color='r', alpha=0.5)\n",
    "plt.tight_layout()\n",
    "plt.show()"
   ]
  },
  {
   "cell_type": "markdown",
   "metadata": {},
   "source": [
    "### Test time"
   ]
  },
  {
   "cell_type": "code",
   "execution_count": 6,
   "metadata": {},
   "outputs": [
    {
     "name": "stdout",
     "output_type": "stream",
     "text": [
      "Time taken: 0:00:00.000006\n",
      "Time taken: 0:00:00.000088\n",
      "Time taken: 0:00:00.000219\n",
      "Time taken: 0:00:00.000183\n",
      "Time taken: 0:00:00.000587\n",
      "Time taken: 0:00:00.001209\n",
      "Time taken: 0:00:00.001969\n",
      "Time taken: 0:00:00.004406\n",
      "Time taken: 0:00:00.005693\n",
      "Time taken: 0:00:00.011199\n",
      "Time taken: 0:00:00.021739\n",
      "Time taken: 0:00:00.043329\n",
      "Time taken: 0:00:00.092069\n",
      "Time taken: 0:00:00.180230\n",
      "Time taken: 0:00:00.367327\n",
      "Time taken: 0:00:00.810904\n",
      "Time taken: 0:00:01.828313\n",
      "Time taken: 0:00:04.617261\n",
      "Time taken: 0:00:12.783390\n"
     ]
    }
   ],
   "source": [
    "N_POWER = 18\n",
    "for k in range(N_POWER+1):\n",
    "    a = list(rd.rand(2 ** k))\n",
    "    startTime = datetime.now()\n",
    "    reservoirRand(a)\n",
    "    print(\"Time taken:\", datetime.now() - startTime)"
   ]
  },
  {
   "cell_type": "code",
   "execution_count": null,
   "metadata": {},
   "outputs": [],
   "source": []
  }
 ],
 "metadata": {
  "kernelspec": {
   "display_name": "Python 3",
   "language": "python",
   "name": "python3"
  },
  "language_info": {
   "codemirror_mode": {
    "name": "ipython",
    "version": 3
   },
   "file_extension": ".py",
   "mimetype": "text/x-python",
   "name": "python",
   "nbconvert_exporter": "python",
   "pygments_lexer": "ipython3",
   "version": "3.7.1"
  }
 },
 "nbformat": 4,
 "nbformat_minor": 2
}
