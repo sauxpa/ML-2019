{
 "cells": [
  {
   "cell_type": "code",
   "execution_count": 1,
   "metadata": {},
   "outputs": [],
   "source": [
    "import numpy as np\n",
    "import tensorflow as tf\n",
    "\n",
    "from sklearn.preprocessing import StandardScaler\n",
    "from sklearn.datasets import fetch_california_housing"
   ]
  },
  {
   "cell_type": "code",
   "execution_count": 16,
   "metadata": {},
   "outputs": [],
   "source": [
    "scaler = StandardScaler()\n",
    "housing = fetch_california_housing()\n",
    "housing_data = scaler.fit_transform(housing.data)\n",
    "housing_target = housing.target\n",
    "m,n = housing.data.shape\n",
    "housing_data_plus_bias = np.c_[np.ones((m, 1)), housing_data]"
   ]
  },
  {
   "cell_type": "code",
   "execution_count": 3,
   "metadata": {},
   "outputs": [],
   "source": [
    "n_epochs = int(1e3)\n",
    "learning_rate = 0.01\n",
    "batch_size = 64\n",
    "n_batches = int(np.ceil(m/batch_size))"
   ]
  },
  {
   "cell_type": "markdown",
   "metadata": {},
   "source": [
    "## With normal equation"
   ]
  },
  {
   "cell_type": "code",
   "execution_count": 4,
   "metadata": {},
   "outputs": [],
   "source": [
    "def r1():\n",
    "    X = tf.constant(housing_data_plus_bias, dtype=tf.float32, name='X')\n",
    "    y = tf.constant(housing_target.reshape(-1, 1), dtype=tf.float32, name='y')\n",
    "    XT = tf.transpose(X)\n",
    "    theta = tf.matmul(tf.matmul(tf.matrix_inverse(tf.matmul(XT, X)), XT), y)\n",
    "    with tf.Session() as sess:\n",
    "        theta_value = theta.eval()"
   ]
  },
  {
   "cell_type": "code",
   "execution_count": 5,
   "metadata": {},
   "outputs": [
    {
     "name": "stdout",
     "output_type": "stream",
     "text": [
      "34.2 ms ± 0 ns per loop (mean ± std. dev. of 1 run, 1 loop each)\n"
     ]
    }
   ],
   "source": [
    "%timeit -n 1 -r 1 r1()"
   ]
  },
  {
   "cell_type": "markdown",
   "metadata": {},
   "source": [
    "## With batch gradient descent"
   ]
  },
  {
   "cell_type": "code",
   "execution_count": 6,
   "metadata": {},
   "outputs": [],
   "source": [
    "\n",
    "def r2():\n",
    "    X = tf.constant(housing_data_plus_bias, dtype=tf.float32, name='X')\n",
    "    y = tf.constant(housing_target.reshape(-1, 1), dtype=tf.float32, name='y')\n",
    "    theta = tf.Variable(tf.random_uniform([n+1, 1], -1.0, 1.0), name='theta')\n",
    "    y_pred = tf.matmul(X, theta, name='predictions')\n",
    "    error = y_pred - y\n",
    "    mse = tf.reduce_mean(tf.square(error), name='mse')\n",
    "    gradients = 2/m * tf.matmul(tf.transpose(X), error)\n",
    "    training_op = tf.assign(theta, theta-learning_rate*gradients)\n",
    "    init = tf.global_variables_initializer()\n",
    "\n",
    "    with tf.Session() as sess:\n",
    "        sess.run(init)\n",
    "        for epoch in range(n_epochs+1):\n",
    "            if epoch % 100 == 0:\n",
    "                print('Epoch', epoch, 'MSE =', mse.eval())\n",
    "            sess.run(training_op)\n",
    "        best_theta = theta.eval()"
   ]
  },
  {
   "cell_type": "code",
   "execution_count": 7,
   "metadata": {},
   "outputs": [
    {
     "name": "stdout",
     "output_type": "stream",
     "text": [
      "Epoch 0 MSE = 10.833167\n",
      "Epoch 100 MSE = 0.9559737\n",
      "Epoch 200 MSE = 0.7172014\n",
      "Epoch 300 MSE = 0.6610752\n",
      "Epoch 400 MSE = 0.6232295\n",
      "Epoch 500 MSE = 0.59596765\n",
      "Epoch 600 MSE = 0.5762571\n",
      "Epoch 700 MSE = 0.5619971\n",
      "Epoch 800 MSE = 0.5516755\n",
      "Epoch 900 MSE = 0.5442006\n",
      "Epoch 1000 MSE = 0.5387841\n",
      "228 ms ± 0 ns per loop (mean ± std. dev. of 1 run, 1 loop each)\n"
     ]
    }
   ],
   "source": [
    "%timeit -n 1 -r 1 r2()"
   ]
  },
  {
   "cell_type": "markdown",
   "metadata": {},
   "source": [
    "## With batch gradient descent using autodiff"
   ]
  },
  {
   "cell_type": "code",
   "execution_count": 8,
   "metadata": {},
   "outputs": [],
   "source": [
    "def r3():\n",
    "    X = tf.constant(housing_data_plus_bias, dtype=tf.float32, name='X')\n",
    "    y = tf.constant(housing_target.reshape(-1, 1), dtype=tf.float32, name='y')\n",
    "    theta = tf.Variable(tf.random_uniform([n+1, 1], -1.0, 1.0), name='theta')\n",
    "    y_pred = tf.matmul(X, theta, name='predictions')\n",
    "    error = y_pred - y\n",
    "    mse = tf.reduce_mean(tf.square(error), name='mse')\n",
    "    gradients = tf.gradients(mse, [theta])[0]\n",
    "    training_op = tf.assign(theta, theta-learning_rate*gradients)\n",
    "    init = tf.global_variables_initializer()\n",
    "    with tf.Session() as sess:\n",
    "        sess.run(init)\n",
    "        for epoch in range(n_epochs+1):\n",
    "            if epoch % 100 == 0:\n",
    "                print('Epoch', epoch, 'MSE =', mse.eval())\n",
    "            sess.run(training_op)\n",
    "        best_theta = theta.eval()"
   ]
  },
  {
   "cell_type": "code",
   "execution_count": 9,
   "metadata": {},
   "outputs": [
    {
     "name": "stdout",
     "output_type": "stream",
     "text": [
      "Epoch 0 MSE = 9.108579\n",
      "Epoch 100 MSE = 0.9831704\n",
      "Epoch 200 MSE = 0.753373\n",
      "Epoch 300 MSE = 0.6861746\n",
      "Epoch 400 MSE = 0.6410712\n",
      "Epoch 500 MSE = 0.60868454\n",
      "Epoch 600 MSE = 0.5853082\n",
      "Epoch 700 MSE = 0.5684246\n",
      "Epoch 800 MSE = 0.5562275\n",
      "Epoch 900 MSE = 0.54741377\n",
      "Epoch 1000 MSE = 0.5410433\n",
      "288 ms ± 0 ns per loop (mean ± std. dev. of 1 run, 1 loop each)\n"
     ]
    }
   ],
   "source": [
    "%timeit -n 1 -r 1 r3()"
   ]
  },
  {
   "cell_type": "markdown",
   "metadata": {},
   "source": [
    "## With batch gradient descent using autodiff and optimizer"
   ]
  },
  {
   "cell_type": "code",
   "execution_count": 10,
   "metadata": {},
   "outputs": [],
   "source": [
    "def r4():\n",
    "    X = tf.constant(housing_data_plus_bias, dtype=tf.float32, name='X')\n",
    "    y = tf.constant(housing_target.reshape(-1, 1), dtype=tf.float32, name='y')\n",
    "    theta = tf.Variable(tf.random_uniform([n+1, 1], -1.0, 1.0), name='theta')\n",
    "    y_pred = tf.matmul(X, theta, name='predictions')\n",
    "    error = y_pred - y\n",
    "    mse = tf.reduce_mean(tf.square(error), name='mse')\n",
    "    optimizer = tf.train.GradientDescentOptimizer(learning_rate=learning_rate)\n",
    "    training_op = optimizer.minimize(mse)\n",
    "    init = tf.global_variables_initializer()\n",
    "    with tf.Session() as sess:\n",
    "        sess.run(init)\n",
    "        for epoch in range(n_epochs+1):\n",
    "            if epoch % 100 == 0:\n",
    "                print('Epoch', epoch, 'MSE =', mse.eval())\n",
    "            sess.run(training_op)\n",
    "        best_theta = theta.eval()"
   ]
  },
  {
   "cell_type": "code",
   "execution_count": 11,
   "metadata": {},
   "outputs": [
    {
     "name": "stdout",
     "output_type": "stream",
     "text": [
      "Epoch 0 MSE = 17.148422\n",
      "Epoch 100 MSE = 0.85283506\n",
      "Epoch 200 MSE = 0.6274514\n",
      "Epoch 300 MSE = 0.59657615\n",
      "Epoch 400 MSE = 0.57652324\n",
      "Epoch 500 MSE = 0.5620782\n",
      "Epoch 600 MSE = 0.5516423\n",
      "Epoch 700 MSE = 0.5441003\n",
      "Epoch 800 MSE = 0.53864795\n",
      "Epoch 900 MSE = 0.5347053\n",
      "Epoch 1000 MSE = 0.53185296\n",
      "279 ms ± 0 ns per loop (mean ± std. dev. of 1 run, 1 loop each)\n"
     ]
    }
   ],
   "source": [
    "%timeit -n 1 -r 1 r4()"
   ]
  },
  {
   "cell_type": "markdown",
   "metadata": {},
   "source": [
    "## With minibatch gradient descent using autodiff and optimizer"
   ]
  },
  {
   "cell_type": "code",
   "execution_count": 12,
   "metadata": {},
   "outputs": [],
   "source": [
    "def fetch_batch(epoch, batch_index, batch_size):\n",
    "    rand_index = np.random.choice(m, size=batch_size)\n",
    "    X_batch = housing_data_plus_bias[rand_index]\n",
    "    y_batch = housing_target[rand_index].reshape(-1, 1)\n",
    "    return X_batch, y_batch\n",
    "    \n",
    "def r5():\n",
    "    X = tf.placeholder(tf.float32, shape=(None, n+1), name='X')\n",
    "    y = tf.placeholder(tf.float32, shape=(None, 1), name='y')\n",
    "    theta = tf.Variable(tf.random_uniform([n+1, 1], -1.0, 1.0), name='theta')\n",
    "    y_pred = tf.matmul(X, theta, name='predictions')\n",
    "    error = y_pred - y\n",
    "    mse = tf.reduce_mean(tf.square(error), name='mse')\n",
    "    optimizer = tf.train.GradientDescentOptimizer(learning_rate=learning_rate)\n",
    "    training_op = optimizer.minimize(mse)\n",
    "    init = tf.global_variables_initializer()\n",
    "    with tf.Session() as sess:\n",
    "        sess.run(init)\n",
    "        for epoch in range(n_epochs+1):\n",
    "            for batch_index in range(n_batches):\n",
    "                X_batch, y_batch = fetch_batch(epoch, batch_index, batch_size)\n",
    "                sess.run(training_op, feed_dict={X: X_batch, y: y_batch})\n",
    "                \n",
    "            if epoch % 100 == 0:\n",
    "                print('Epoch', epoch, 'MSE =', mse.eval(feed_dict={X: X_batch, y: y_batch}))\n",
    "        best_theta = theta.eval()"
   ]
  },
  {
   "cell_type": "code",
   "execution_count": 13,
   "metadata": {},
   "outputs": [
    {
     "name": "stdout",
     "output_type": "stream",
     "text": [
      "Epoch 0 MSE = 1.3822281\n",
      "Epoch 100 MSE = 0.71288264\n",
      "Epoch 200 MSE = 0.42527574\n",
      "Epoch 300 MSE = 0.5109476\n",
      "Epoch 400 MSE = 0.513522\n",
      "Epoch 500 MSE = 0.4315561\n",
      "Epoch 600 MSE = 0.7776046\n",
      "Epoch 700 MSE = 2.1978917\n",
      "Epoch 800 MSE = 0.39121222\n",
      "Epoch 900 MSE = 0.571352\n",
      "Epoch 1000 MSE = 0.43982285\n",
      "1min 15s ± 0 ns per loop (mean ± std. dev. of 1 run, 1 loop each)\n"
     ]
    }
   ],
   "source": [
    "%timeit -n 1 -r 1 r5()"
   ]
  }
 ],
 "metadata": {
  "kernelspec": {
   "display_name": "Python 3",
   "language": "python",
   "name": "python3"
  },
  "language_info": {
   "codemirror_mode": {
    "name": "ipython",
    "version": 3
   },
   "file_extension": ".py",
   "mimetype": "text/x-python",
   "name": "python",
   "nbconvert_exporter": "python",
   "pygments_lexer": "ipython3",
   "version": "3.7.3"
  }
 },
 "nbformat": 4,
 "nbformat_minor": 2
}
