{
 "cells": [
  {
   "cell_type": "markdown",
   "metadata": {},
   "source": [
    "## Benchmark numerical 1D minimization\n",
    "\n",
    "$\\max_{\\lambda\\in[0, \\frac{1}{B-\\mu}]} \\mathbb{E}_{X\\sim\\nu}[\\log(1-(X-\\mu)\\lambda)]$\n",
    "\n",
    "where $\\nu=\\frac{1}{n}\\sum_{i=1}^n \\delta_{x_i}$ is an empirical measure and $\\max_{i=1, \\dots, n} x_i \\leq B$."
   ]
  },
  {
   "cell_type": "code",
   "execution_count": 1,
   "metadata": {},
   "outputs": [],
   "source": [
    "import numpy as np\n",
    "from scipy.optimize import minimize, minimize_scalar, root_scalar"
   ]
  },
  {
   "cell_type": "code",
   "execution_count": 2,
   "metadata": {},
   "outputs": [],
   "source": [
    "mu = 0.51\n",
    "upper_bound = 1.0\n",
    "n = 500\n",
    "X = upper_bound * np.random.rand(n)"
   ]
  },
  {
   "cell_type": "code",
   "execution_count": 3,
   "metadata": {},
   "outputs": [],
   "source": [
    "def test_trust_constr(n, X, upper_bound, mu):\n",
    "    def f(l):\n",
    "        return -np.mean(np.log(1 - (X - mu) * l))\n",
    "\n",
    "    def jac(l):\n",
    "        return np.mean((X - mu) / (1 - (X - mu) * l))\n",
    "\n",
    "    def hess(l):\n",
    "        return np.mean((X - mu) ** 2 / (1 - (X - mu) * l) ** 2)\n",
    "\n",
    "    ret = minimize(\n",
    "        f, 0.5 / (upper_bound - mu), method='trust-constr', jac=jac, hess=hess, bounds=[(0, 1 / (upper_bound - mu))]\n",
    "    )\n",
    "    \n",
    "    if ret.success:\n",
    "        return ret.fun\n",
    "    else:\n",
    "        return None\n",
    "    \n",
    "def test_trust_constr_no_hess(n, X, upper_bound, mu):\n",
    "    def f(l):\n",
    "        return -np.mean(np.log(1 - (X - mu) * l))\n",
    "\n",
    "    def jac(l):\n",
    "        return np.mean((X - mu) / (1 - (X - mu) * l))\n",
    "\n",
    "    ret = minimize(\n",
    "        f, 0.5 / (upper_bound - mu), method='trust-constr', jac=jac, bounds=[(0, 1 / (upper_bound - mu))]\n",
    "    )\n",
    "    \n",
    "    if ret.success:\n",
    "        return ret.fun\n",
    "    else:\n",
    "        return None\n",
    "    \n",
    "def test_trust_constr_no_jac(n, X, upper_bound, mu):\n",
    "    def f(l):\n",
    "        return -np.mean(np.log(1 - (X - mu) * l))\n",
    "\n",
    "    ret = minimize(\n",
    "        f, 0.5 / (upper_bound - mu), method='trust-constr', bounds=[(0, 1 / (upper_bound - mu))]\n",
    "    )\n",
    "    \n",
    "    if ret.success:\n",
    "        return ret.fun\n",
    "    else:\n",
    "        return None"
   ]
  },
  {
   "cell_type": "code",
   "execution_count": 4,
   "metadata": {},
   "outputs": [
    {
     "name": "stdout",
     "output_type": "stream",
     "text": [
      "minimize, trust-constr\n",
      "71.1 ms ± 2.34 ms per loop (mean ± std. dev. of 7 runs, 10 loops each)\n",
      "-0.0009623123891665784\n",
      "minimize, trust-constr, no hess\n",
      "77.6 ms ± 2.16 ms per loop (mean ± std. dev. of 7 runs, 10 loops each)\n",
      "-0.00096231238885155\n",
      "minimize, trust-constr, no jac\n",
      "78.4 ms ± 3.72 ms per loop (mean ± std. dev. of 7 runs, 10 loops each)\n",
      "-0.000962312388888497\n"
     ]
    }
   ],
   "source": [
    "print('minimize, trust-constr')\n",
    "%timeit test_trust_constr(n, X, upper_bound, mu)\n",
    "print(test_trust_constr(n, X, upper_bound, mu))\n",
    "\n",
    "print('minimize, trust-constr, no hess')\n",
    "%timeit test_trust_constr_no_hess(n, X, upper_bound, mu)\n",
    "print(test_trust_constr_no_hess(n, X, upper_bound, mu))\n",
    "\n",
    "print('minimize, trust-constr, no jac')\n",
    "%timeit test_trust_constr_no_jac(n, X, upper_bound, mu)\n",
    "print(test_trust_constr_no_jac(n, X, upper_bound, mu))"
   ]
  },
  {
   "cell_type": "code",
   "execution_count": 5,
   "metadata": {},
   "outputs": [],
   "source": [
    "def test_minimize_scalar_bounded(n, X, upper_bound, mu):\n",
    "    def f(l):\n",
    "        return -np.mean(np.log(1 - (X - mu) * l))\n",
    "\n",
    "    ret = minimize_scalar(\n",
    "        f, method='bounded', bounds=(0, 1 / (upper_bound - mu))\n",
    "    )\n",
    "    \n",
    "    if ret.success:\n",
    "        return ret.fun\n",
    "    else:\n",
    "        return None"
   ]
  },
  {
   "cell_type": "code",
   "execution_count": 6,
   "metadata": {},
   "outputs": [
    {
     "name": "stdout",
     "output_type": "stream",
     "text": [
      "minimize_scalar, bounded\n",
      "850 µs ± 43.1 µs per loop (mean ± std. dev. of 7 runs, 1000 loops each)\n",
      "-0.0009623127569702782\n"
     ]
    }
   ],
   "source": [
    "print('minimize_scalar, bounded')\n",
    "%timeit test_minimize_scalar_bounded(n, X, upper_bound, mu)\n",
    "print(test_minimize_scalar_bounded(n, X, upper_bound, mu))"
   ]
  },
  {
   "cell_type": "code",
   "execution_count": 9,
   "metadata": {},
   "outputs": [],
   "source": [
    "def test_root_scalar_brentq(n, X, upper_bound, mu):\n",
    "    def f(l):\n",
    "        return np.mean(np.log(1 - (X - mu) * l))\n",
    "    def jac(l):\n",
    "        return -np.mean((X - mu) / (1 - (X - mu) * l))\n",
    "    \n",
    "    l_plus = 1 / (upper_bound - mu)\n",
    "    \n",
    "    if jac(0) * jac(l_plus) >= 0:\n",
    "        return np.maximum(f(0), f(l_plus))\n",
    "    else:\n",
    "        ret = root_scalar(\n",
    "            jac, method='brentq', bracket=[0, l_plus]\n",
    "        )\n",
    "        if ret.converged:\n",
    "            return np.max([f(ret.root), f(0), f(l_plus)])\n",
    "        else:\n",
    "            return None"
   ]
  },
  {
   "cell_type": "code",
   "execution_count": 10,
   "metadata": {},
   "outputs": [
    {
     "name": "stdout",
     "output_type": "stream",
     "text": [
      "root_scalar, brentq\n",
      "336 µs ± 29.7 µs per loop (mean ± std. dev. of 7 runs, 1000 loops each)\n",
      "0.000962312756970942\n"
     ]
    }
   ],
   "source": [
    "print('root_scalar, brentq')\n",
    "%timeit test_root_scalar_brentq(n, X, upper_bound, mu)\n",
    "print(test_root_scalar_brentq(n, X, upper_bound, mu))"
   ]
  },
  {
   "cell_type": "code",
   "execution_count": null,
   "metadata": {},
   "outputs": [],
   "source": []
  }
 ],
 "metadata": {
  "kernelspec": {
   "display_name": "Python 3",
   "language": "python",
   "name": "python3"
  },
  "language_info": {
   "codemirror_mode": {
    "name": "ipython",
    "version": 3
   },
   "file_extension": ".py",
   "mimetype": "text/x-python",
   "name": "python",
   "nbconvert_exporter": "python",
   "pygments_lexer": "ipython3",
   "version": "3.7.4"
  }
 },
 "nbformat": 4,
 "nbformat_minor": 2
}
