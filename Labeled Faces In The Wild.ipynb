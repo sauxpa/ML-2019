{
 "cells": [
  {
   "cell_type": "markdown",
   "metadata": {},
   "source": [
    "[Labeled Faces In The Wild](http://vis-www.cs.umass.edu/lfw/) using sklearn, mostly inspired from [Faces recognition example using eigenfaces and SVMs](https://scikit-learn.org/stable/auto_examples/applications/plot_face_recognition.html#sphx-glr-auto-examples-applications-plot-face-recognition-py)"
   ]
  },
  {
   "cell_type": "code",
   "execution_count": 1,
   "metadata": {},
   "outputs": [],
   "source": [
    "import numpy as np\n",
    "from scipy.stats import uniform, randint\n",
    "from time import time\n",
    "import pandas as pd\n",
    "\n",
    "# plot\n",
    "import matplotlib.pyplot as plt\n",
    "from matplotlib.colors import ListedColormap\n",
    "\n",
    "# dataset\n",
    "from sklearn.datasets import fetch_lfw_people, make_classification\n",
    "\n",
    "# preprocessing\n",
    "from sklearn.model_selection import train_test_split\n",
    "from sklearn.preprocessing import StandardScaler\n",
    "from sklearn.decomposition import PCA\n",
    "\n",
    "# result metrics\n",
    "from sklearn.metrics import accuracy_score\n",
    "from sklearn.metrics import classification_report\n",
    "from sklearn.metrics import confusion_matrix\n",
    "\n",
    "# classifiers\n",
    "from sklearn.neighbors import KNeighborsClassifier\n",
    "from sklearn.linear_model import LogisticRegression\n",
    "from sklearn.svm import SVC\n",
    "from sklearn.svm import LinearSVC\n",
    "from sklearn.tree import DecisionTreeClassifier\n",
    "from sklearn.calibration import CalibratedClassifierCV\n",
    "\n",
    "# ensemble meta-classifiers\n",
    "from sklearn.ensemble import RandomForestClassifier\n",
    "from sklearn.ensemble import VotingClassifier\n",
    "from sklearn.ensemble import BaggingClassifier\n",
    "from sklearn.ensemble import AdaBoostClassifier\n",
    "from sklearn.model_selection import RandomizedSearchCV"
   ]
  },
  {
   "cell_type": "markdown",
   "metadata": {},
   "source": [
    "### Global parameters"
   ]
  },
  {
   "cell_type": "code",
   "execution_count": 2,
   "metadata": {},
   "outputs": [],
   "source": [
    "TEST_SIZE = 0.2"
   ]
  },
  {
   "cell_type": "markdown",
   "metadata": {},
   "source": [
    "### Preprocess dataset"
   ]
  },
  {
   "cell_type": "code",
   "execution_count": 3,
   "metadata": {},
   "outputs": [],
   "source": [
    "lfw_people = fetch_lfw_people(min_faces_per_person=70, resize=0.4)"
   ]
  },
  {
   "cell_type": "code",
   "execution_count": 4,
   "metadata": {},
   "outputs": [
    {
     "name": "stdout",
     "output_type": "stream",
     "text": [
      "(1288, 50, 37)\n"
     ]
    }
   ],
   "source": [
    "# introspect the images arrays to find the shapes (for plotting)\n",
    "n_samples, height, width = lfw_people.images.shape\n",
    "print(lfw_people.images.shape)"
   ]
  },
  {
   "cell_type": "code",
   "execution_count": 5,
   "metadata": {},
   "outputs": [],
   "source": [
    "X = lfw_people.data\n",
    "n_features = X.shape[1] #height*width"
   ]
  },
  {
   "cell_type": "code",
   "execution_count": 6,
   "metadata": {},
   "outputs": [],
   "source": [
    "y = lfw_people.target\n",
    "target_names = lfw_people.target_names\n",
    "n_classes = target_names.shape[0]"
   ]
  },
  {
   "cell_type": "code",
   "execution_count": 7,
   "metadata": {},
   "outputs": [
    {
     "name": "stdout",
     "output_type": "stream",
     "text": [
      "Total dataset size:\n",
      "\tn_samples: 1288\n",
      "\t   height: 50\n",
      "\t   width: 37\n",
      "\tn_features: 1850\n",
      "\tn_classes: 7\n"
     ]
    }
   ],
   "source": [
    "print(\"Total dataset size:\")\n",
    "print(\"\\tn_samples: %d\" % n_samples)\n",
    "print(\"\\t   height: %d\" % height)\n",
    "print(\"\\t   width: %d\" % width)\n",
    "print(\"\\tn_features: %d\" % n_features)\n",
    "print(\"\\tn_classes: %d\" % n_classes)"
   ]
  },
  {
   "cell_type": "code",
   "execution_count": 8,
   "metadata": {},
   "outputs": [],
   "source": [
    "X = StandardScaler().fit_transform(X)\n",
    "dataset_split = train_test_split(X, y, test_size=TEST_SIZE)\n",
    "X_train, X_test, y_train, y_test = dataset_split"
   ]
  },
  {
   "cell_type": "markdown",
   "metadata": {},
   "source": [
    "## Unsupervised feature extraction: PCA"
   ]
  },
  {
   "cell_type": "code",
   "execution_count": 9,
   "metadata": {},
   "outputs": [],
   "source": [
    "N_COMPONENTS = 150"
   ]
  },
  {
   "cell_type": "code",
   "execution_count": 10,
   "metadata": {},
   "outputs": [
    {
     "name": "stdout",
     "output_type": "stream",
     "text": [
      "Extracting the top 150 eigenfaces from 1030 faces\n",
      "done in 0.088s\n",
      "Projecting the input data on the eigenfaces orthonormal basis\n",
      "done in 0.025s\n"
     ]
    }
   ],
   "source": [
    "print(\"Extracting the top %d eigenfaces from %d faces\"\n",
    "      % (N_COMPONENTS, X_train.shape[0]))\n",
    "t0 = time()\n",
    "pca = PCA(n_components=N_COMPONENTS, svd_solver='randomized',\n",
    "          whiten=True).fit(X_train)\n",
    "print(\"done in %0.3fs\" % (time() - t0))\n",
    "\n",
    "eigenfaces = pca.components_.reshape((N_COMPONENTS, height, width))\n",
    "\n",
    "print(\"Projecting the input data on the eigenfaces orthonormal basis\")\n",
    "t0 = time()\n",
    "X_train_pca = pca.transform(X_train)\n",
    "X_test_pca = pca.transform(X_test)\n",
    "dataset_split_pca = X_train_pca, X_test_pca, y_train, y_test\n",
    "print(\"done in %0.3fs\" % (time() - t0))"
   ]
  },
  {
   "cell_type": "markdown",
   "metadata": {},
   "source": [
    "## Helper plot functions"
   ]
  },
  {
   "cell_type": "code",
   "execution_count": 11,
   "metadata": {},
   "outputs": [],
   "source": [
    "def plot_gallery(images, titles, height, width, n_row=3, n_col=4):\n",
    "    \"\"\"\n",
    "    Helper function to plot a gallery of portraits\n",
    "    \"\"\"\n",
    "    plt.figure(figsize=(1.8 * n_col, 2.4 * n_row))\n",
    "    plt.subplots_adjust(bottom=0, left=.01, right=.99, top=.90, hspace=.35)\n",
    "    for i in range(n_row * n_col):\n",
    "        plt.subplot(n_row, n_col, i + 1)\n",
    "        plt.imshow(images[i].reshape((height, width)), cmap=plt.cm.gray)\n",
    "        plt.title(titles[i], size=12)\n",
    "        plt.xticks(())\n",
    "        plt.yticks(())\n",
    "\n",
    "def title_image(y_pred, y_test, target_names, i):\n",
    "    pred_name = target_names[y_pred[i]].rsplit(' ', 1)[-1]\n",
    "    true_name = target_names[y_test[i]].rsplit(' ', 1)[-1]\n",
    "    return 'predicted: %s\\ntrue:      %s' % (pred_name, true_name)\n",
    "\n",
    "def plot_gallery_result(X_test, y_test, y_pred, show_eigenfaces=True):\n",
    "    prediction_titles = [title_image(y_pred, y_test, target_names, i)\n",
    "                             for i in range(y_pred.shape[0])]\n",
    "\n",
    "    plot_gallery(X_test, prediction_titles, height, width)\n",
    "\n",
    "    if show_eigenfaces:\n",
    "        # plot the gallery of the most significative eigenfaces\n",
    "        eigenface_titles = [\"eigenface %d\" % i for i in range(eigenfaces.shape[0])]\n",
    "        plot_gallery(eigenfaces, eigenface_titles, height, width)\n",
    "\n",
    "    plt.show()"
   ]
  },
  {
   "cell_type": "code",
   "execution_count": 12,
   "metadata": {},
   "outputs": [],
   "source": [
    "def plot_train_info(df):\n",
    "    \"\"\"\n",
    "    Helper to sort performance by out-of-sample accuracy and draw a bar plot\n",
    "    \"\"\"\n",
    "    df = df.set_index('classifier')\n",
    "    df.drop('train_time', axis=1)\\\n",
    "        .sort_values('out_accuracy', ascending=False)\\\n",
    "        .plot(kind=\"bar\", stacked=False, figsize=(8,5))\n",
    "    df.drop(['in_accuracy', 'out_accuracy'], axis=1)\\\n",
    "        .sort_values('train_time', ascending=False)\\\n",
    "        .plot(kind=\"bar\", stacked=False, figsize=(8,5))\n",
    "    \n",
    "def compare_classifiers_plot(dataset_split, classifiers, clf_names):\n",
    "    \"\"\"\n",
    "    Plot decision boundaries for a set of classifiers and compare their respective accuracies\n",
    "    \"\"\"\n",
    "    X_train, X_test, y_train, y_test = dataset_split\n",
    "    \n",
    "    info = []\n",
    "    \n",
    "    for (i, (clf_name, clf)) in enumerate(zip(clf_names, classifiers)):\n",
    "        # timer for training\n",
    "        t0 = time()\n",
    "        clf.fit(X_train, y_train)\n",
    "        train_time = time()-t0\n",
    "        \n",
    "        y_pred_in = clf.predict(X_train)\n",
    "        y_pred = clf.predict(X_test)\n",
    "\n",
    "        in_acc = accuracy_score(y_train, y_pred_in)\n",
    "        out_acc = accuracy_score(y_test, y_pred)\n",
    "\n",
    "        info.append({\n",
    "            'classifier': clf_name,\n",
    "            'in_accuracy': in_acc,\n",
    "            'out_accuracy': out_acc,\n",
    "            'train_time': train_time\n",
    "            }\n",
    "        )\n",
    "        \n",
    "        print('-----{}-----'.format(clf_name))\n",
    "        print(classification_report(y_test, y_pred, target_names=target_names))\n",
    "        \n",
    "    df = pd.DataFrame(info) \n",
    "    plot_train_info(df)\n",
    "        \n",
    "    return df\n",
    "\n",
    "def plot_classifiers_gallery(X_test, X_test_pca, y_test, classifiers, clf_names, show_eigenfaces=True):\n",
    "    \"\"\"\n",
    "    Plot gallery of predicted faces\n",
    "    \"\"\"\n",
    "    for (i, (clf_name, clf)) in enumerate(zip(clf_names, classifiers)):\n",
    "        y_pred = clf.predict(X_test_pca)\n",
    "        print('-----{}-----'.format(clf_name))\n",
    "        plot_gallery_result(X_test, y_test, y_pred, show_eigenfaces=show_eigenfaces)"
   ]
  },
  {
   "cell_type": "markdown",
   "metadata": {},
   "source": [
    "### Classifiers"
   ]
  },
  {
   "cell_type": "code",
   "execution_count": 13,
   "metadata": {},
   "outputs": [],
   "source": [
    "MIN_SAMPLE_LEAF = 1\n",
    "MAX_DEPTH = 20\n",
    "MAX_LEAF_NODES= 24\n",
    "N_ESTIMATORS = 500\n",
    "MAX_SAMPLES = 100\n",
    "N_ITER_SEARCH = 10\n",
    "CV = 5"
   ]
  },
  {
   "cell_type": "code",
   "execution_count": 14,
   "metadata": {},
   "outputs": [],
   "source": [
    "log_clf = LogisticRegression(solver='lbfgs', multi_class='auto')\n",
    "\n",
    "knn_clf = RandomizedSearchCV(\n",
    "    KNeighborsClassifier(\n",
    "        weights='distance', \n",
    "        n_jobs=-1\n",
    "    ),\n",
    "    param_distributions={'n_neighbors': randint(1,30)},\n",
    "    n_iter=N_ITER_SEARCH, \n",
    "    cv=CV,\n",
    "    iid=False,\n",
    ")\n",
    "\n",
    "decision_tree_clf = DecisionTreeClassifier(\n",
    "    max_leaf_nodes=MAX_LEAF_NODES, \n",
    "    max_depth=MAX_DEPTH, \n",
    "    min_samples_leaf=MIN_SAMPLE_LEAF\n",
    ")\n",
    "\n",
    "random_forest_clf = RandomForestClassifier(\n",
    "    n_estimators=N_ESTIMATORS, \n",
    "    max_leaf_nodes=MAX_LEAF_NODES, \n",
    "    n_jobs=-1\n",
    ") # n_jobs=-1 : use all available CPU cores\n",
    "\n",
    "# use cross-validated version in ordere to predict probabilities as well\n",
    "lin_svm_clf = CalibratedClassifierCV(\n",
    "    base_estimator=LinearSVC(),\n",
    "    cv=CV\n",
    ")\n",
    "\n",
    "sigm_svm_clf = RandomizedSearchCV(\n",
    "    SVC(\n",
    "        kernel='sigmoid',\n",
    "        gamma='scale',\n",
    "        probability=True\n",
    "    ),\n",
    "    param_distributions={'coef0': uniform(0,6)},\n",
    "    n_iter=N_ITER_SEARCH, \n",
    "    cv=CV,\n",
    "    iid=False,\n",
    ")\n",
    "\n",
    "rbf_svm_clf = CalibratedClassifierCV(\n",
    "    SVC(\n",
    "        kernel='rbf',\n",
    "        gamma='scale',\n",
    "        probability=True\n",
    "    ),\n",
    "    cv=CV\n",
    ")"
   ]
  },
  {
   "cell_type": "code",
   "execution_count": 15,
   "metadata": {},
   "outputs": [],
   "source": [
    "classifiers = [\n",
    "    log_clf,\n",
    "    lin_svm_clf,\n",
    "    #sigm_svm_clf,\n",
    "    rbf_svm_clf,\n",
    "    knn_clf,\n",
    "    decision_tree_clf,\n",
    "    random_forest_clf,\n",
    "]\n",
    "\n",
    "clf_names = [\n",
    "    'Logistic Regression',\n",
    "    'Linear SVM',\n",
    "    #'Sigmoid SVM',\n",
    "    'Gaussian SVM',\n",
    "    'KNN',\n",
    "    'Decision Tree',\n",
    "    'Random Forest',\n",
    "]\n",
    "\n",
    "best_classifiers = [\n",
    "    rbf_svm_clf,\n",
    "    random_forest_clf,\n",
    "]\n",
    "\n",
    "best_clf_names = [\n",
    "    'Gaussian SVM',\n",
    "    'Random Forest',\n",
    "]"
   ]
  },
  {
   "cell_type": "markdown",
   "metadata": {},
   "source": [
    "### Ensemble Classifiers"
   ]
  },
  {
   "cell_type": "code",
   "execution_count": 16,
   "metadata": {},
   "outputs": [],
   "source": [
    "decision_tree_bag_clf = BaggingClassifier(\n",
    "    DecisionTreeClassifier(max_leaf_nodes=MAX_LEAF_NODES, max_depth=MAX_DEPTH, min_samples_leaf=MIN_SAMPLE_LEAF),\n",
    "    n_estimators=N_ESTIMATORS,\n",
    "    max_samples=MAX_SAMPLES,\n",
    "    bootstrap=True,\n",
    "    n_jobs=-1,\n",
    ")\n",
    "\n",
    "# all classifiers get to vote\n",
    "demo_soft_voting_clf = VotingClassifier(\n",
    "    estimators=list(zip(clf_names, classifiers)),\n",
    "    voting='soft',\n",
    ")\n",
    "\n",
    "# only rbf_svm and random forests get to vote\n",
    "oli_soft_voting_clf = VotingClassifier(\n",
    "    estimators=list(zip(best_clf_names, best_classifiers)),\n",
    "    voting='soft',\n",
    ")\n",
    "\n",
    "decision_tree_ada_clf = AdaBoostClassifier(\n",
    "    DecisionTreeClassifier(max_leaf_nodes=MAX_LEAF_NODES, max_depth=MAX_DEPTH, min_samples_leaf=MIN_SAMPLE_LEAF),\n",
    "    n_estimators=N_ESTIMATORS,\n",
    "    algorithm='SAMME.R',\n",
    "    learning_rate=0.5,\n",
    ")"
   ]
  },
  {
   "cell_type": "code",
   "execution_count": 17,
   "metadata": {},
   "outputs": [],
   "source": [
    "ens_classifiers = [\n",
    "    demo_soft_voting_clf,\n",
    "    oli_soft_voting_clf,\n",
    "    decision_tree_bag_clf,\n",
    "    decision_tree_ada_clf\n",
    "]\n",
    "\n",
    "ens_clf_names = [\n",
    "    'Democratic Soft Voting',\n",
    "    'Oligarchic Soft Voting',\n",
    "    'Decision Tree Bagging',\n",
    "    'Decision Tree Boosting',\n",
    "]"
   ]
  },
  {
   "cell_type": "markdown",
   "metadata": {},
   "source": [
    "## Compare them all"
   ]
  },
  {
   "cell_type": "code",
   "execution_count": 18,
   "metadata": {},
   "outputs": [],
   "source": [
    "all_classifiers = classifiers+ens_classifiers\n",
    "all_clf_names = clf_names+ens_clf_names"
   ]
  },
  {
   "cell_type": "code",
   "execution_count": 19,
   "metadata": {},
   "outputs": [
    {
     "name": "stdout",
     "output_type": "stream",
     "text": [
      "-----Logistic Regression-----\n",
      "                   precision    recall  f1-score   support\n",
      "\n",
      "     Ariel Sharon       0.80      0.73      0.76        11\n",
      "     Colin Powell       0.74      0.79      0.76        47\n",
      "  Donald Rumsfeld       0.75      0.75      0.75        16\n",
      "    George W Bush       0.90      0.89      0.89       115\n",
      "Gerhard Schroeder       0.79      0.92      0.85        24\n",
      "      Hugo Chavez       0.89      0.53      0.67        15\n",
      "       Tony Blair       0.78      0.83      0.81        30\n",
      "\n",
      "        micro avg       0.83      0.83      0.83       258\n",
      "        macro avg       0.81      0.78      0.78       258\n",
      "     weighted avg       0.83      0.83      0.83       258\n",
      "\n"
     ]
    },
    {
     "name": "stderr",
     "output_type": "stream",
     "text": [
      "C:\\ProgramData\\Anaconda3\\lib\\site-packages\\sklearn\\svm\\base.py:931: ConvergenceWarning: Liblinear failed to converge, increase the number of iterations.\n",
      "  \"the number of iterations.\", ConvergenceWarning)\n",
      "C:\\ProgramData\\Anaconda3\\lib\\site-packages\\sklearn\\svm\\base.py:931: ConvergenceWarning: Liblinear failed to converge, increase the number of iterations.\n",
      "  \"the number of iterations.\", ConvergenceWarning)\n",
      "C:\\ProgramData\\Anaconda3\\lib\\site-packages\\sklearn\\svm\\base.py:931: ConvergenceWarning: Liblinear failed to converge, increase the number of iterations.\n",
      "  \"the number of iterations.\", ConvergenceWarning)\n",
      "C:\\ProgramData\\Anaconda3\\lib\\site-packages\\sklearn\\svm\\base.py:931: ConvergenceWarning: Liblinear failed to converge, increase the number of iterations.\n",
      "  \"the number of iterations.\", ConvergenceWarning)\n",
      "C:\\ProgramData\\Anaconda3\\lib\\site-packages\\sklearn\\svm\\base.py:931: ConvergenceWarning: Liblinear failed to converge, increase the number of iterations.\n",
      "  \"the number of iterations.\", ConvergenceWarning)\n"
     ]
    },
    {
     "name": "stdout",
     "output_type": "stream",
     "text": [
      "-----Linear SVM-----\n",
      "                   precision    recall  f1-score   support\n",
      "\n",
      "     Ariel Sharon       0.80      0.73      0.76        11\n",
      "     Colin Powell       0.76      0.81      0.78        47\n",
      "  Donald Rumsfeld       0.73      0.69      0.71        16\n",
      "    George W Bush       0.83      0.92      0.87       115\n",
      "Gerhard Schroeder       0.95      0.75      0.84        24\n",
      "      Hugo Chavez       0.91      0.67      0.77        15\n",
      "       Tony Blair       0.84      0.70      0.76        30\n",
      "\n",
      "        micro avg       0.82      0.82      0.82       258\n",
      "        macro avg       0.83      0.75      0.79       258\n",
      "     weighted avg       0.83      0.82      0.82       258\n",
      "\n",
      "-----Gaussian SVM-----\n",
      "                   precision    recall  f1-score   support\n",
      "\n",
      "     Ariel Sharon       0.82      0.82      0.82        11\n",
      "     Colin Powell       0.89      0.89      0.89        47\n",
      "  Donald Rumsfeld       1.00      0.62      0.77        16\n",
      "    George W Bush       0.82      0.96      0.88       115\n",
      "Gerhard Schroeder       0.91      0.83      0.87        24\n",
      "      Hugo Chavez       0.90      0.60      0.72        15\n",
      "       Tony Blair       0.92      0.73      0.81        30\n",
      "\n",
      "        micro avg       0.86      0.86      0.86       258\n",
      "        macro avg       0.89      0.78      0.82       258\n",
      "     weighted avg       0.87      0.86      0.86       258\n",
      "\n",
      "-----KNN-----\n",
      "                   precision    recall  f1-score   support\n",
      "\n",
      "     Ariel Sharon       0.62      0.73      0.67        11\n",
      "     Colin Powell       0.86      0.64      0.73        47\n",
      "  Donald Rumsfeld       0.40      0.38      0.39        16\n",
      "    George W Bush       0.82      0.90      0.86       115\n",
      "Gerhard Schroeder       0.61      0.58      0.60        24\n",
      "      Hugo Chavez       0.89      0.53      0.67        15\n",
      "       Tony Blair       0.53      0.67      0.59        30\n",
      "\n",
      "        micro avg       0.73      0.73      0.73       258\n",
      "        macro avg       0.67      0.63      0.64       258\n",
      "     weighted avg       0.74      0.73      0.73       258\n",
      "\n",
      "-----Decision Tree-----\n",
      "                   precision    recall  f1-score   support\n",
      "\n",
      "     Ariel Sharon       0.00      0.00      0.00        11\n",
      "     Colin Powell       0.50      0.57      0.53        47\n",
      "  Donald Rumsfeld       0.38      0.81      0.52        16\n",
      "    George W Bush       0.63      0.70      0.67       115\n",
      "Gerhard Schroeder       0.36      0.21      0.26        24\n",
      "      Hugo Chavez       0.50      0.07      0.12        15\n",
      "       Tony Blair       0.33      0.23      0.27        30\n",
      "\n",
      "        micro avg       0.52      0.52      0.52       258\n",
      "        macro avg       0.39      0.37      0.34       258\n",
      "     weighted avg       0.50      0.52      0.49       258\n",
      "\n",
      "-----Random Forest-----\n",
      "                   precision    recall  f1-score   support\n",
      "\n",
      "     Ariel Sharon       0.00      0.00      0.00        11\n",
      "     Colin Powell       0.93      0.28      0.43        47\n",
      "  Donald Rumsfeld       0.00      0.00      0.00        16\n",
      "    George W Bush       0.47      1.00      0.64       115\n",
      "Gerhard Schroeder       0.00      0.00      0.00        24\n",
      "      Hugo Chavez       0.00      0.00      0.00        15\n",
      "       Tony Blair       0.00      0.00      0.00        30\n",
      "\n",
      "        micro avg       0.50      0.50      0.50       258\n",
      "        macro avg       0.20      0.18      0.15       258\n",
      "     weighted avg       0.38      0.50      0.36       258\n",
      "\n"
     ]
    },
    {
     "name": "stderr",
     "output_type": "stream",
     "text": [
      "C:\\ProgramData\\Anaconda3\\lib\\site-packages\\sklearn\\metrics\\classification.py:1143: UndefinedMetricWarning: Precision and F-score are ill-defined and being set to 0.0 in labels with no predicted samples.\n",
      "  'precision', 'predicted', average, warn_for)\n",
      "C:\\ProgramData\\Anaconda3\\lib\\site-packages\\sklearn\\svm\\base.py:931: ConvergenceWarning: Liblinear failed to converge, increase the number of iterations.\n",
      "  \"the number of iterations.\", ConvergenceWarning)\n",
      "C:\\ProgramData\\Anaconda3\\lib\\site-packages\\sklearn\\svm\\base.py:931: ConvergenceWarning: Liblinear failed to converge, increase the number of iterations.\n",
      "  \"the number of iterations.\", ConvergenceWarning)\n",
      "C:\\ProgramData\\Anaconda3\\lib\\site-packages\\sklearn\\svm\\base.py:931: ConvergenceWarning: Liblinear failed to converge, increase the number of iterations.\n",
      "  \"the number of iterations.\", ConvergenceWarning)\n",
      "C:\\ProgramData\\Anaconda3\\lib\\site-packages\\sklearn\\svm\\base.py:931: ConvergenceWarning: Liblinear failed to converge, increase the number of iterations.\n",
      "  \"the number of iterations.\", ConvergenceWarning)\n",
      "C:\\ProgramData\\Anaconda3\\lib\\site-packages\\sklearn\\svm\\base.py:931: ConvergenceWarning: Liblinear failed to converge, increase the number of iterations.\n",
      "  \"the number of iterations.\", ConvergenceWarning)\n"
     ]
    },
    {
     "name": "stdout",
     "output_type": "stream",
     "text": [
      "-----Democratic Soft Voting-----\n",
      "                   precision    recall  f1-score   support\n",
      "\n",
      "     Ariel Sharon       1.00      0.82      0.90        11\n",
      "     Colin Powell       0.78      0.85      0.82        47\n",
      "  Donald Rumsfeld       0.80      0.75      0.77        16\n",
      "    George W Bush       0.83      0.92      0.88       115\n",
      "Gerhard Schroeder       1.00      0.88      0.93        24\n",
      "      Hugo Chavez       0.90      0.60      0.72        15\n",
      "       Tony Blair       0.92      0.77      0.84        30\n",
      "\n",
      "        micro avg       0.85      0.85      0.85       258\n",
      "        macro avg       0.89      0.80      0.84       258\n",
      "     weighted avg       0.86      0.85      0.85       258\n",
      "\n",
      "-----Oligarchic Soft Voting-----\n",
      "                   precision    recall  f1-score   support\n",
      "\n",
      "     Ariel Sharon       1.00      0.82      0.90        11\n",
      "     Colin Powell       0.87      0.87      0.87        47\n",
      "  Donald Rumsfeld       1.00      0.62      0.77        16\n",
      "    George W Bush       0.77      0.97      0.86       115\n",
      "Gerhard Schroeder       0.95      0.75      0.84        24\n",
      "      Hugo Chavez       1.00      0.53      0.70        15\n",
      "       Tony Blair       0.95      0.63      0.76        30\n",
      "\n",
      "        micro avg       0.84      0.84      0.84       258\n",
      "        macro avg       0.93      0.74      0.81       258\n",
      "     weighted avg       0.86      0.84      0.84       258\n",
      "\n",
      "-----Decision Tree Bagging-----\n",
      "                   precision    recall  f1-score   support\n",
      "\n",
      "     Ariel Sharon       0.00      0.00      0.00        11\n",
      "     Colin Powell       0.73      0.68      0.70        47\n",
      "  Donald Rumsfeld       0.75      0.19      0.30        16\n",
      "    George W Bush       0.53      0.97      0.68       115\n",
      "Gerhard Schroeder       0.00      0.00      0.00        24\n",
      "      Hugo Chavez       0.00      0.00      0.00        15\n",
      "       Tony Blair       0.00      0.00      0.00        30\n",
      "\n",
      "        micro avg       0.57      0.57      0.57       258\n",
      "        macro avg       0.29      0.26      0.24       258\n",
      "     weighted avg       0.41      0.57      0.45       258\n",
      "\n"
     ]
    },
    {
     "name": "stderr",
     "output_type": "stream",
     "text": [
      "C:\\ProgramData\\Anaconda3\\lib\\site-packages\\sklearn\\metrics\\classification.py:1143: UndefinedMetricWarning: Precision and F-score are ill-defined and being set to 0.0 in labels with no predicted samples.\n",
      "  'precision', 'predicted', average, warn_for)\n"
     ]
    },
    {
     "name": "stdout",
     "output_type": "stream",
     "text": [
      "-----Decision Tree Boosting-----\n",
      "                   precision    recall  f1-score   support\n",
      "\n",
      "     Ariel Sharon       0.00      0.00      0.00        11\n",
      "     Colin Powell       0.80      0.43      0.56        47\n",
      "  Donald Rumsfeld       0.00      0.00      0.00        16\n",
      "    George W Bush       0.48      0.98      0.65       115\n",
      "Gerhard Schroeder       0.00      0.00      0.00        24\n",
      "      Hugo Chavez       0.00      0.00      0.00        15\n",
      "       Tony Blair       0.00      0.00      0.00        30\n",
      "\n",
      "        micro avg       0.52      0.52      0.52       258\n",
      "        macro avg       0.18      0.20      0.17       258\n",
      "     weighted avg       0.36      0.52      0.39       258\n",
      "\n"
     ]
    },
    {
     "name": "stderr",
     "output_type": "stream",
     "text": [
      "C:\\ProgramData\\Anaconda3\\lib\\site-packages\\sklearn\\metrics\\classification.py:1143: UndefinedMetricWarning: Precision and F-score are ill-defined and being set to 0.0 in labels with no predicted samples.\n",
      "  'precision', 'predicted', average, warn_for)\n"
     ]
    },
    {
     "data": {
      "image/png": "[encoded data removed]",
      "text/plain": [
       "<Figure size 576x360 with 1 Axes>"
      ]
     },
     "metadata": {
      "needs_background": "light"
     },
     "output_type": "display_data"
    },
    {
     "data": {
      "image/png": "[encoded data removed]",
      "text/plain": [
       "<Figure size 576x360 with 1 Axes>"
      ]
     },
     "metadata": {
      "needs_background": "light"
     },
     "output_type": "display_data"
    }
   ],
   "source": [
    "df = compare_classifiers_plot(dataset_split_pca, all_classifiers, all_clf_names)"
   ]
  },
  {
   "cell_type": "code",
   "execution_count": 20,
   "metadata": {},
   "outputs": [
    {
     "name": "stdout",
     "output_type": "stream",
     "text": [
      "-----RBF SVM-----\n"
     ]
    },
    {
     "data": {
      "image/png": "[encoded data removed]",
      "text/plain": [
       "<Figure size 518.4x518.4 with 12 Axes>"
      ]
     },
     "metadata": {},
     "output_type": "display_data"
    }
   ],
   "source": [
    "# uncomment to see galery for all classifiers\n",
    "#plot_classifiers_gallery(X_test, X_test_pca, y_test, classifiers, clf_names, show_eigenfaces=False)\n",
    "plot_classifiers_gallery(X_test, X_test_pca, y_test, [rbf_svm_clf], ['RBF SVM'], show_eigenfaces=False)"
   ]
  }
 ],
 "metadata": {
  "kernelspec": {
   "display_name": "Python 3",
   "language": "python",
   "name": "python3"
  },
  "language_info": {
   "codemirror_mode": {
    "name": "ipython",
    "version": 3
   },
   "file_extension": ".py",
   "mimetype": "text/x-python",
   "name": "python",
   "nbconvert_exporter": "python",
   "pygments_lexer": "ipython3",
   "version": "3.6.8"
  }
 },
 "nbformat": 4,
 "nbformat_minor": 2
}
