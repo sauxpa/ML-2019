{
 "cells": [
  {
   "cell_type": "code",
   "execution_count": 1,
   "metadata": {},
   "outputs": [
    {
     "data": {
      "text/html": [
       "<style>.container { width:95% !important; } </style>"
      ],
      "text/plain": [
       "<IPython.core.display.HTML object>"
      ]
     },
     "metadata": {},
     "output_type": "display_data"
    }
   ],
   "source": [
    "from IPython.core.display import HTML\n",
    "display(HTML('<style>.container { width:95% !important; } </style>'))\n",
    "\n",
    "%load_ext autoreload\n",
    "%autoreload 2"
   ]
  },
  {
   "cell_type": "code",
   "execution_count": 2,
   "metadata": {},
   "outputs": [],
   "source": [
    "import gym\n",
    "import numpy as np\n",
    "import matplotlib.pyplot as plt\n",
    "import seaborn as sns\n",
    "from tqdm import tqdm_notebook as tqdm\n",
    "from matplotlib.ticker import FuncFormatter"
   ]
  },
  {
   "cell_type": "code",
   "execution_count": 3,
   "metadata": {},
   "outputs": [],
   "source": [
    "SEED = 123\n",
    "\n",
    "WALKAWAY = 0\n",
    "INIT_STATE = 0\n",
    "assert WALKAWAY == 0\n",
    "assert INIT_STATE == 0\n",
    "\n",
    "LEFT = 1\n",
    "RIGHT = 0"
   ]
  },
  {
   "cell_type": "code",
   "execution_count": 4,
   "metadata": {},
   "outputs": [],
   "source": [
    "# class GamblingMDP(gym.Env):\n",
    "#     def __init__(self, probs=[0.5], expected_outcome=-36/38, seed=None):\n",
    "#         self.probs = probs\n",
    "#         self.expected_outcome = expected_outcome\n",
    "        \n",
    "#         self.nS = 1\n",
    "#         self.nA = len(probs) + 1\n",
    "        \n",
    "#         self.state_space = gym.spaces.Discrete(self.nS)\n",
    "#         self.action_space = gym.spaces.Discrete(self.nA)\n",
    "#         self._seed(seed)\n",
    "#         self.state = None\n",
    "\n",
    "#     def _seed(self, seed=None):\n",
    "#         if seed is not None:\n",
    "#             np.random.seed(seed)\n",
    "\n",
    "#     def step(self, action):\n",
    "#         assert self.action_space.contains(action)\n",
    "#         assert self.state == INIT_STATE\n",
    "        \n",
    "#         if action == WALKAWAY:\n",
    "#             reward = 0.0\n",
    "#         else:\n",
    "#             # Each bet has the same average payout and has two outcomes:\n",
    "#             # loss of -1 (size of the bet) or gain.\n",
    "#             # Each bet has a different win probability,\n",
    "#             # and the corresponding gain is calibrated to have the same\n",
    "#             # expected outcome (like in Roulette).\n",
    "#             win_gain = -self.expected_outcome / self.probs[action - 1]\n",
    "#             reward = (win_gain - 1) if np.random.rand() < self.probs[action - 1] else -1\n",
    "\n",
    "#         done = True\n",
    "\n",
    "#         return self.state, reward, done, {}\n",
    "\n",
    "#     def reset(self):\n",
    "#         self.state = INIT_STATE\n",
    "#         return self.state\n",
    "\n",
    "class ToyMDP(gym.Env):\n",
    "    def __init__(self, mu=-0.5, std=1.0, seed=None):\n",
    "        self.mu = mu\n",
    "        self.std = std\n",
    "        \n",
    "        self.nS = 4\n",
    "        self.nA = 2\n",
    "        \n",
    "        self.state_space = gym.spaces.Discrete(self.nS)\n",
    "        self.action_space = gym.spaces.Discrete(self.nA)\n",
    "        self._seed(seed)\n",
    "        self.state = None\n",
    "\n",
    "    def _seed(self, seed=None):\n",
    "        if seed is not None:\n",
    "            np.random.seed(seed)\n",
    "\n",
    "    def step(self, action):\n",
    "        assert self.action_space.contains(action)\n",
    "        \n",
    "        if self.state == INIT_STATE:\n",
    "            if action == RIGHT:\n",
    "                reward = 0.0\n",
    "                done = True\n",
    "                self.state = 3\n",
    "            elif action == LEFT:\n",
    "                reward = 0.0\n",
    "                done = False\n",
    "                self.state = 1\n",
    "#         elif self.state == 1:\n",
    "#             reward = 0.0\n",
    "#             done = False\n",
    "#             self.state = 2\n",
    "        elif self.state == 1:\n",
    "            reward = self.mu + self.std * np.random.randn()\n",
    "            done = True\n",
    "            self.state = 2\n",
    "    \n",
    "        return self.state, reward, done, {}\n",
    "\n",
    "    def reset(self):\n",
    "        self.state = INIT_STATE\n",
    "        return self.state"
   ]
  },
  {
   "cell_type": "code",
   "execution_count": 5,
   "metadata": {},
   "outputs": [],
   "source": [
    "def randargmax(b, **kw):\n",
    "    \"\"\" a random tie-breaking argmax\"\"\"\n",
    "    return np.argmax(np.random.random(b.shape) * (b == b.max()), **kw)\n",
    "\n",
    "\n",
    "def Q_learning(env,\n",
    "               gamma,\n",
    "               n_episodes, \n",
    "               learning_rate_0,\n",
    "               epsilon_greedy,\n",
    "               epsilon_greedy_decay_freq,\n",
    "               epsilon_greedy_decay_factor,\n",
    "               ):\n",
    "    \"\"\"\n",
    "    env : gym.Env\n",
    "    MDP\n",
    "    \n",
    "    gamma : float\n",
    "    Discount factor\n",
    "   \n",
    "    n_episodes : int\n",
    "    Number of episodes\n",
    "    \n",
    "    learning_rate_0 : float\n",
    "    Initial learning rate for the TD step.\n",
    "\n",
    "    epsilon_greedy : float\n",
    "    Initial probability of random exploration.\n",
    "    \n",
    "    epsilon_greedy_freq : int\n",
    "    Decrease epsilon_greedy every epsilon_greedy_decay episodes.\n",
    "    \n",
    "    epsilon_greedy_factor : float\n",
    "    Decrease epsilon_greedy by (1-epsilon_greedy_factor)%.\n",
    "\n",
    "    returns:\n",
    "    -------\n",
    "    Q_opt : float array, (env.nS, env.nA) size\n",
    "    Optimal state-action value function on the MDP\n",
    "    given a discount GAMMA\n",
    "    Q_opt[state index][action index] = state-action value of that state\n",
    "    \"\"\"\n",
    "    Q_opt = np.zeros((env.nS, env.nA))\n",
    "    N_visit = np.zeros((env.nS, env.nA))\n",
    "    rewards = np.zeros(n_episodes)\n",
    "    \n",
    "    for episode in range(n_episodes):\n",
    "        done = False\n",
    "        state = env.reset()\n",
    "\n",
    "        if (episode + 1) % epsilon_greedy_decay_freq == 0:\n",
    "            epsilon_greedy *= epsilon_greedy_decay_factor\n",
    "        while not done:\n",
    "            if np.random.rand() < epsilon_greedy:\n",
    "                action = env.action_space.sample()\n",
    "            else:\n",
    "                action = randargmax(Q_opt[state, :])\n",
    "            \n",
    "            N_visit[state, action] += 1\n",
    "            next_state, r, done, _ = env.step(action)\n",
    "            \n",
    "            rewards[episode] = r\n",
    "        \n",
    "            pred = Q_opt[state, action]\n",
    "            target = r + gamma * np.max(Q_opt[next_state, :])\n",
    "            Q_opt[state, action] = Q_opt[state, action] + learning_rate_0 / N_visit[state, action]  * (target - pred)\n",
    "            # Move on to next state\n",
    "            state = next_state\n",
    "\n",
    "    return Q_opt, rewards"
   ]
  },
  {
   "cell_type": "code",
   "execution_count": 6,
   "metadata": {},
   "outputs": [],
   "source": [
    "# probs = np.random.uniform(low=1/37, high=18/38, size=10)\n",
    "# env = GamblingMDP(probs=probs, expected_outcome=-0.5, seed=SEED)\n",
    "env = ToyMDP(mu=-0.1, std=1.0, seed=SEED)\n",
    "\n",
    "gamma = 1.0\n",
    "n_episodes = 500\n",
    "learning_rate_0 = 1.0\n",
    "epsilon_greedy = 0.1\n",
    "epsilon_greedy_decay_freq = 100\n",
    "epsilon_greedy_decay_factor = 0.1\n",
    "\n",
    "n_sim = 1000"
   ]
  },
  {
   "cell_type": "code",
   "execution_count": 7,
   "metadata": {},
   "outputs": [
    {
     "data": {
      "application/vnd.jupyter.widget-view+json": {
       "model_id": "830e9947e9404383b6fcb650e4d73d2c",
       "version_major": 2,
       "version_minor": 0
      },
      "text/plain": [
       "HBox(children=(IntProgress(value=0, max=1000), HTML(value='')))"
      ]
     },
     "metadata": {},
     "output_type": "display_data"
    },
    {
     "name": "stdout",
     "output_type": "stream",
     "text": [
      "\n"
     ]
    }
   ],
   "source": [
    "stats_Q = np.zeros(n_sim)\n",
    "rewards_Q = np.zeros((n_sim, n_episodes))\n",
    "\n",
    "for i in tqdm(range(n_sim)):\n",
    "    Q_opt_Q_learning, rewards = Q_learning(\n",
    "        env,\n",
    "        gamma,\n",
    "        n_episodes,\n",
    "        learning_rate_0,\n",
    "        epsilon_greedy,\n",
    "        epsilon_greedy_decay_freq,\n",
    "        epsilon_greedy_decay_factor,\n",
    "    )\n",
    "\n",
    "    pi_opt_Q_learning = np.argmax(Q_opt_Q_learning, axis=1)\n",
    "    stats_Q[i] = pi_opt_Q_learning[INIT_STATE]\n",
    "    rewards_Q[i] = rewards"
   ]
  },
  {
   "cell_type": "code",
   "execution_count": 8,
   "metadata": {},
   "outputs": [],
   "source": [
    "def Double_Q_learning(env,\n",
    "                      gamma,\n",
    "                      n_episodes, \n",
    "                      learning_rate_0,\n",
    "                      epsilon_greedy,\n",
    "                      epsilon_greedy_decay_freq,\n",
    "                      epsilon_greedy_decay_factor,\n",
    "                      ):\n",
    "    \"\"\"\n",
    "    env : gym.Env\n",
    "    MDP\n",
    "    \n",
    "    gamma : float\n",
    "    Discount factor\n",
    "   \n",
    "    n_episodes : int\n",
    "    Number of episodes\n",
    "    \n",
    "    learning_rate_0 : float\n",
    "    Initial learning rate for the TD step.\n",
    "\n",
    "    epsilon_greedy : float\n",
    "    Initial probability of random exploration.\n",
    "    \n",
    "    epsilon_greedy_freq : int\n",
    "    Decrease epsilon_greedy every epsilon_greedy_decay episodes.\n",
    "    \n",
    "    epsilon_greedy_factor : float\n",
    "    Decrease epsilon_greedy by (1-epsilon_greedy_factor)%.\n",
    "\n",
    "    returns:\n",
    "    -------\n",
    "    Q_opt : float array, (env.nS, env.nA) size\n",
    "    Optimal state-action value function on the MDP\n",
    "    given a discount GAMMA\n",
    "    Q_opt[state index][action index] = state-action value of that state\n",
    "    \"\"\"\n",
    "    Q_opt_A = np.zeros((env.nS, env.nA))\n",
    "    Q_opt_B = np.zeros((env.nS, env.nA))\n",
    "    Q_opt = np.zeros((env.nS, env.nA))\n",
    "    \n",
    "    N_visit_A = np.zeros((env.nS, env.nA))\n",
    "    N_visit_B = np.zeros((env.nS, env.nA))\n",
    "    \n",
    "    rewards = np.zeros(n_episodes)\n",
    "        \n",
    "    for episode in range(n_episodes):\n",
    "        done = False\n",
    "        state = env.reset()\n",
    "\n",
    "        if (episode + 1) % epsilon_greedy_decay_freq == 0:\n",
    "            epsilon_greedy *= epsilon_greedy_decay_factor\n",
    "        while not done:\n",
    "            # epsilon-greedy exploration \n",
    "            if np.random.rand() < epsilon_greedy:\n",
    "                action = env.action_space.sample()\n",
    "            else:\n",
    "                action = randargmax(Q_opt[state, :])\n",
    "\n",
    "            next_state, r, done, _ = env.step(action)\n",
    "\n",
    "            rewards[episode] = r\n",
    "\n",
    "            update_A = np.random.rand() < 0.5\n",
    "            if update_A:\n",
    "                N_visit_A[state, action] += 1\n",
    "                action_star = randargmax(Q_opt_A[next_state, :])\n",
    "                pred = Q_opt_A[state, action]\n",
    "                target = r + gamma * Q_opt_B[next_state, action_star]\n",
    "                Q_opt_A[state, action] = Q_opt_A[state, action] + learning_rate_0 / N_visit_A[state, action] * (target - pred)\n",
    "            else:\n",
    "                N_visit_B[state, action] += 1\n",
    "                action_star = randargmax(Q_opt_B[next_state, :])\n",
    "                pred = Q_opt_B[state, action]\n",
    "                target = r + gamma * Q_opt_A[next_state, action_star]\n",
    "                Q_opt_B[state, action] = Q_opt_B[state, action] + learning_rate_0 / N_visit_B[state, action] * (target - pred)\n",
    "\n",
    "            Q_opt[state, action] = 0.5 * (Q_opt_A[state, action] + Q_opt_B[state, action])\n",
    "\n",
    "            # Move on to next state\n",
    "            state = next_state\n",
    "\n",
    "    return Q_opt, rewards"
   ]
  },
  {
   "cell_type": "code",
   "execution_count": 9,
   "metadata": {},
   "outputs": [
    {
     "data": {
      "application/vnd.jupyter.widget-view+json": {
       "model_id": "5ec6141dd04e44e2ac35d385636e3676",
       "version_major": 2,
       "version_minor": 0
      },
      "text/plain": [
       "HBox(children=(IntProgress(value=0, max=1000), HTML(value='')))"
      ]
     },
     "metadata": {},
     "output_type": "display_data"
    },
    {
     "name": "stdout",
     "output_type": "stream",
     "text": [
      "\n"
     ]
    }
   ],
   "source": [
    "stats_DQ = np.zeros(n_sim)\n",
    "rewards_DQ = np.zeros((n_sim, n_episodes))\n",
    "\n",
    "for i in tqdm(range(n_sim)):\n",
    "    Q_opt_DQ_learning, rewards = Double_Q_learning(\n",
    "        env,\n",
    "        gamma,\n",
    "        n_episodes,\n",
    "        learning_rate_0,\n",
    "        epsilon_greedy,\n",
    "        epsilon_greedy_decay_freq,\n",
    "        epsilon_greedy_decay_factor,\n",
    "    )\n",
    "\n",
    "    pi_opt_DQ_learning = np.argmax(Q_opt_DQ_learning, axis=1)\n",
    "    rewards_DQ[i] = rewards\n",
    "    stats_DQ[i] = pi_opt_DQ_learning[INIT_STATE]"
   ]
  },
  {
   "cell_type": "code",
   "execution_count": 10,
   "metadata": {},
   "outputs": [
    {
     "name": "stdout",
     "output_type": "stream",
     "text": [
      "RIGHT is the recommended policy by Q-Learning 89% of the time\n",
      "RIGHT is the recommended policy Double Q-Learning 98% of the time\n"
     ]
    },
    {
     "data": {
      "image/png": "[encoded data removed]",
      "text/plain": [
       "<Figure size 792x792 with 2 Axes>"
      ]
     },
     "metadata": {},
     "output_type": "display_data"
    }
   ],
   "source": [
    "# print('WALKAWAY is the recommended policy by Q-Learning {:.0%} of the time'.format(np.mean(stats_Q == WALKAWAY)))\n",
    "# print('WALKAWAY is the recommended policy Double Q-Learning {:.0%} of the time'.format(np.mean(stats_DQ == WALKAWAY)))\n",
    "\n",
    "print('RIGHT is the recommended policy by Q-Learning {:.0%} of the time'.format(np.mean(stats_Q == RIGHT)))\n",
    "print('RIGHT is the recommended policy Double Q-Learning {:.0%} of the time'.format(np.mean(stats_DQ == RIGHT)))\n",
    "\n",
    "with sns.axes_style('darkgrid'):\n",
    "    fig, axes = plt.subplots(figsize=(11, 11), nrows=2, ncols=1)\n",
    "    \n",
    "    ax = axes[0]\n",
    "    ax.plot(np.cumsum(np.mean(rewards_Q, axis=0)), label='Q')\n",
    "    ax.plot(np.cumsum(np.mean(rewards_DQ, axis=0)), label='Double Q')\n",
    "    ax.set_xlabel('episodes')\n",
    "    ax.set_ylabel('Average cumulative rewards')\n",
    "    ax.legend(loc='upper right')\n",
    "    \n",
    "    ax = axes[1]\n",
    "    ax.plot(np.mean(rewards_Q != 0, axis=0), label='Q')\n",
    "    ax.plot(np.mean(rewards_DQ != 0, axis=0), label='Double Q')\n",
    "    ax.set_xlabel('episodes')\n",
    "    ax.set_ylabel('Frequency of LEFT initial move')\n",
    "    ax.legend(loc='upper right')\n",
    "    ax.yaxis.set_major_formatter(FuncFormatter(lambda y, _: '{:.0%}'.format(y)))\n",
    "    \n",
    "    plt.tight_layout()\n",
    "    plt.show()"
   ]
  },
  {
   "cell_type": "code",
   "execution_count": null,
   "metadata": {},
   "outputs": [],
   "source": []
  }
 ],
 "metadata": {
  "kernelspec": {
   "display_name": "Python 3",
   "language": "python",
   "name": "python3"
  },
  "language_info": {
   "codemirror_mode": {
    "name": "ipython",
    "version": 3
   },
   "file_extension": ".py",
   "mimetype": "text/x-python",
   "name": "python",
   "nbconvert_exporter": "python",
   "pygments_lexer": "ipython3",
   "version": "3.7.4"
  }
 },
 "nbformat": 4,
 "nbformat_minor": 2
}
