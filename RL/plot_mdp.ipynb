{
 "cells": [
  {
   "cell_type": "code",
   "execution_count": 1,
   "metadata": {},
   "outputs": [],
   "source": [
    "import numpy as np\n",
    "import networkx as nx\n",
    "import matplotlib.pyplot as plt"
   ]
  },
  {
   "cell_type": "code",
   "execution_count": 21,
   "metadata": {},
   "outputs": [],
   "source": [
    "G = nx.DiGraph()\n",
    "\n",
    "G.add_nodes_from(['START', 'WAIT', 'END LEFT', 'END RIGHT'])\n",
    "\n",
    "G.add_edge('START', 'END RIGHT')\n",
    "G.add_edge('START', 'WAIT')\n",
    "G.add_edge('WAIT', 'END LEFT')\n",
    "\n",
    "# save layout\n",
    "pos = {\n",
    "    'START': [0, 0],\n",
    "    'END RIGHT': [1, 0],\n",
    "    'WAIT': [-1, 0],\n",
    "    'END LEFT': [-2, 0],\n",
    "}"
   ]
  },
  {
   "cell_type": "code",
   "execution_count": 66,
   "metadata": {},
   "outputs": [],
   "source": [
    "rewards = {\n",
    "    ('START', 'END RIGHT'): 0,\n",
    "    ('START', 'WAIT'): 0,\n",
    "    ('WAIT', 'END LEFT'): '$\\mathcal{N}(-0.5, 1)$',\n",
    "}\n",
    "\n",
    "pos_rewards = {\n",
    "    'START': [0, 0.05],\n",
    "    'END RIGHT': [1, 0.05],\n",
    "    'WAIT': [-1, 0.05],\n",
    "    'END LEFT': [-2, 0.05],\n",
    "}"
   ]
  },
  {
   "cell_type": "code",
   "execution_count": 72,
   "metadata": {},
   "outputs": [
    {
     "data": {
      "image/png": "[encoded data removed]",
      "text/plain": [
       "<Figure size 792x288 with 1 Axes>"
      ]
     },
     "metadata": {},
     "output_type": "display_data"
    }
   ],
   "source": [
    "fig, ax = plt.subplots(figsize=(11,4), nrows=1, ncols=1)\n",
    "\n",
    "nx.draw_networkx(G, pos=pos, ax=ax, node_size=10000)\n",
    "nx.draw_networkx_edge_labels(G, pos=pos_rewards, edge_labels=rewards, font_color='black', font_size=15)\n",
    "ax.axis('off')\n",
    "ax.set_title('4 states MDP')\n",
    "\n",
    "plt.tight_layout()\n",
    "plt.show()"
   ]
  },
  {
   "cell_type": "code",
   "execution_count": 73,
   "metadata": {},
   "outputs": [],
   "source": [
    "fig.savefig('mdp.eps')"
   ]
  },
  {
   "cell_type": "code",
   "execution_count": null,
   "metadata": {},
   "outputs": [],
   "source": []
  }
 ],
 "metadata": {
  "kernelspec": {
   "display_name": "Python 3",
   "language": "python",
   "name": "python3"
  },
  "language_info": {
   "codemirror_mode": {
    "name": "ipython",
    "version": 3
   },
   "file_extension": ".py",
   "mimetype": "text/x-python",
   "name": "python",
   "nbconvert_exporter": "python",
   "pygments_lexer": "ipython3",
   "version": "3.7.4"
  }
 },
 "nbformat": 4,
 "nbformat_minor": 2
}
